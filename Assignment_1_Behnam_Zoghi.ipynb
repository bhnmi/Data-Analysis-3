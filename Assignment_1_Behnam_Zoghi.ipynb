{
 "cells": [
  {
   "cell_type": "code",
   "execution_count": 2,
   "id": "56f6108e-180e-4d61-963e-33b93f931475",
   "metadata": {},
   "outputs": [],
   "source": [
    "# Importing necessary libraries and modules for data analysis and visualization\n",
    "from sklearn.model_selection import cross_val_score\n",
    "from sklearn.linear_model import LinearRegression\n",
    "from sklearn.metrics import mean_squared_error\n",
    "import os\n",
    "import sys\n",
    "import warnings\n",
    "import seaborn as sns\n",
    "import matplotlib.pyplot as plt\n",
    "from scipy.stats import pearsonr\n",
    "import numpy as np\n",
    "import pandas as pd\n",
    "from datetime import datetime\n",
    "import statsmodels.api as sm\n",
    "import statsmodels.formula.api as smf\n",
    "from scipy.stats import norm\n",
    "import statsmodels.nonparametric.kernel_regression as loess\n",
    "warnings.filterwarnings(\"ignore\") # Disabling warnings to prevent cluttering the output\n",
    "from sklearn.linear_model import LassoCV\n",
    "from sklearn.preprocessing import StandardScaler\n",
    "from sklearn.model_selection import train_test_split"
   ]
  },
  {
   "cell_type": "code",
   "execution_count": 6,
   "id": "9cba0491-4391-4777-8dc6-54b2dfbd2abf",
   "metadata": {},
   "outputs": [],
   "source": [
    "#Locate the folder\n",
    "current_path = os.getcwd()\n",
    "#import Data\n",
    "data_all = pd.read_csv(current_path+ \"\\morg-2014-emp.csv\")"
   ]
  },
  {
   "cell_type": "code",
   "execution_count": 7,
   "id": "ea71632a-1317-4124-8d84-2055177cf7a1",
   "metadata": {},
   "outputs": [
    {
     "data": {
      "text/html": [
       "<div>\n",
       "<style scoped>\n",
       "    .dataframe tbody tr th:only-of-type {\n",
       "        vertical-align: middle;\n",
       "    }\n",
       "\n",
       "    .dataframe tbody tr th {\n",
       "        vertical-align: top;\n",
       "    }\n",
       "\n",
       "    .dataframe thead th {\n",
       "        text-align: right;\n",
       "    }\n",
       "</style>\n",
       "<table border=\"1\" class=\"dataframe\">\n",
       "  <thead>\n",
       "    <tr style=\"text-align: right;\">\n",
       "      <th></th>\n",
       "      <th>Unnamed: 0</th>\n",
       "      <th>hhid</th>\n",
       "      <th>intmonth</th>\n",
       "      <th>stfips</th>\n",
       "      <th>weight</th>\n",
       "      <th>earnwke</th>\n",
       "      <th>uhours</th>\n",
       "      <th>grade92</th>\n",
       "      <th>race</th>\n",
       "      <th>ethnic</th>\n",
       "      <th>...</th>\n",
       "      <th>ownchild</th>\n",
       "      <th>chldpres</th>\n",
       "      <th>prcitshp</th>\n",
       "      <th>state</th>\n",
       "      <th>ind02</th>\n",
       "      <th>occ2012</th>\n",
       "      <th>class</th>\n",
       "      <th>unionmme</th>\n",
       "      <th>unioncov</th>\n",
       "      <th>lfsr94</th>\n",
       "    </tr>\n",
       "  </thead>\n",
       "  <tbody>\n",
       "    <tr>\n",
       "      <th>0</th>\n",
       "      <td>3</td>\n",
       "      <td>2600310997690</td>\n",
       "      <td>January</td>\n",
       "      <td>AL</td>\n",
       "      <td>3151.6801</td>\n",
       "      <td>1692.00</td>\n",
       "      <td>40</td>\n",
       "      <td>43</td>\n",
       "      <td>1</td>\n",
       "      <td>NaN</td>\n",
       "      <td>...</td>\n",
       "      <td>0</td>\n",
       "      <td>0</td>\n",
       "      <td>Native, Born In US</td>\n",
       "      <td>63</td>\n",
       "      <td>Employment services (5613)</td>\n",
       "      <td>630</td>\n",
       "      <td>Private, For Profit</td>\n",
       "      <td>No</td>\n",
       "      <td>No</td>\n",
       "      <td>Employed-At Work</td>\n",
       "    </tr>\n",
       "    <tr>\n",
       "      <th>1</th>\n",
       "      <td>5</td>\n",
       "      <td>75680310997590</td>\n",
       "      <td>January</td>\n",
       "      <td>AL</td>\n",
       "      <td>3457.1138</td>\n",
       "      <td>450.00</td>\n",
       "      <td>40</td>\n",
       "      <td>41</td>\n",
       "      <td>2</td>\n",
       "      <td>NaN</td>\n",
       "      <td>...</td>\n",
       "      <td>2</td>\n",
       "      <td>6</td>\n",
       "      <td>Native, Born In US</td>\n",
       "      <td>63</td>\n",
       "      <td>Outpatient care centers (6214)</td>\n",
       "      <td>5400</td>\n",
       "      <td>Private, For Profit</td>\n",
       "      <td>No</td>\n",
       "      <td>No</td>\n",
       "      <td>Employed-Absent</td>\n",
       "    </tr>\n",
       "    <tr>\n",
       "      <th>2</th>\n",
       "      <td>6</td>\n",
       "      <td>75680310997590</td>\n",
       "      <td>January</td>\n",
       "      <td>AL</td>\n",
       "      <td>3936.9110</td>\n",
       "      <td>1090.00</td>\n",
       "      <td>60</td>\n",
       "      <td>41</td>\n",
       "      <td>2</td>\n",
       "      <td>NaN</td>\n",
       "      <td>...</td>\n",
       "      <td>2</td>\n",
       "      <td>6</td>\n",
       "      <td>Native, Born In US</td>\n",
       "      <td>63</td>\n",
       "      <td>Motor vehicles and motor vehicle equipment man...</td>\n",
       "      <td>8140</td>\n",
       "      <td>Private, For Profit</td>\n",
       "      <td>No</td>\n",
       "      <td>No</td>\n",
       "      <td>Employed-At Work</td>\n",
       "    </tr>\n",
       "    <tr>\n",
       "      <th>3</th>\n",
       "      <td>10</td>\n",
       "      <td>179140131100930</td>\n",
       "      <td>January</td>\n",
       "      <td>AL</td>\n",
       "      <td>3288.3640</td>\n",
       "      <td>769.23</td>\n",
       "      <td>40</td>\n",
       "      <td>40</td>\n",
       "      <td>1</td>\n",
       "      <td>NaN</td>\n",
       "      <td>...</td>\n",
       "      <td>2</td>\n",
       "      <td>4</td>\n",
       "      <td>Native, Born In US</td>\n",
       "      <td>63</td>\n",
       "      <td>**Publishing, except newspapers and software (...</td>\n",
       "      <td>8255</td>\n",
       "      <td>Private, For Profit</td>\n",
       "      <td>Yes</td>\n",
       "      <td>NaN</td>\n",
       "      <td>Employed-At Work</td>\n",
       "    </tr>\n",
       "    <tr>\n",
       "      <th>4</th>\n",
       "      <td>11</td>\n",
       "      <td>179140131100930</td>\n",
       "      <td>January</td>\n",
       "      <td>AL</td>\n",
       "      <td>3422.8500</td>\n",
       "      <td>826.92</td>\n",
       "      <td>40</td>\n",
       "      <td>43</td>\n",
       "      <td>1</td>\n",
       "      <td>NaN</td>\n",
       "      <td>...</td>\n",
       "      <td>2</td>\n",
       "      <td>4</td>\n",
       "      <td>Native, Born In US</td>\n",
       "      <td>63</td>\n",
       "      <td>Banking and related activities (521, 52211,52219)</td>\n",
       "      <td>5940</td>\n",
       "      <td>Private, For Profit</td>\n",
       "      <td>No</td>\n",
       "      <td>No</td>\n",
       "      <td>Employed-At Work</td>\n",
       "    </tr>\n",
       "  </tbody>\n",
       "</table>\n",
       "<p>5 rows × 23 columns</p>\n",
       "</div>"
      ],
      "text/plain": [
       "   Unnamed: 0             hhid intmonth stfips     weight  earnwke  uhours  \\\n",
       "0           3    2600310997690  January     AL  3151.6801  1692.00      40   \n",
       "1           5   75680310997590  January     AL  3457.1138   450.00      40   \n",
       "2           6   75680310997590  January     AL  3936.9110  1090.00      60   \n",
       "3          10  179140131100930  January     AL  3288.3640   769.23      40   \n",
       "4          11  179140131100930  January     AL  3422.8500   826.92      40   \n",
       "\n",
       "   grade92  race  ethnic  ...  ownchild  chldpres            prcitshp  state  \\\n",
       "0       43     1     NaN  ...         0         0  Native, Born In US     63   \n",
       "1       41     2     NaN  ...         2         6  Native, Born In US     63   \n",
       "2       41     2     NaN  ...         2         6  Native, Born In US     63   \n",
       "3       40     1     NaN  ...         2         4  Native, Born In US     63   \n",
       "4       43     1     NaN  ...         2         4  Native, Born In US     63   \n",
       "\n",
       "                                               ind02 occ2012  \\\n",
       "0                         Employment services (5613)     630   \n",
       "1                     Outpatient care centers (6214)    5400   \n",
       "2  Motor vehicles and motor vehicle equipment man...    8140   \n",
       "3  **Publishing, except newspapers and software (...    8255   \n",
       "4  Banking and related activities (521, 52211,52219)    5940   \n",
       "\n",
       "                 class unionmme  unioncov            lfsr94  \n",
       "0  Private, For Profit       No        No  Employed-At Work  \n",
       "1  Private, For Profit       No        No   Employed-Absent  \n",
       "2  Private, For Profit       No        No  Employed-At Work  \n",
       "3  Private, For Profit      Yes       NaN  Employed-At Work  \n",
       "4  Private, For Profit       No        No  Employed-At Work  \n",
       "\n",
       "[5 rows x 23 columns]"
      ]
     },
     "execution_count": 7,
     "metadata": {},
     "output_type": "execute_result"
    }
   ],
   "source": [
    "#Reviewing the head of the Data\n",
    "data_all.head()"
   ]
  },
  {
   "cell_type": "markdown",
   "id": "7abfc056",
   "metadata": {},
   "source": [
    "Choosing Biological scientist as the occupation of interest"
   ]
  },
  {
   "cell_type": "code",
   "execution_count": 8,
   "id": "3bc39a6d",
   "metadata": {},
   "outputs": [],
   "source": [
    "#Setting the column called sample as 1 in cases where it is of the occupation of interest for us otherwise 0\n",
    "data_all.loc[data_all[\"occ2012\"] == 1610, \"sample\"] = 1\n",
    "data_all.loc[data_all[\"sample\"].isna(), \"sample\"] = 0"
   ]
  },
  {
   "cell_type": "code",
   "execution_count": 9,
   "id": "f8908d43",
   "metadata": {},
   "outputs": [
    {
     "data": {
      "text/html": [
       "<div>\n",
       "<style scoped>\n",
       "    .dataframe tbody tr th:only-of-type {\n",
       "        vertical-align: middle;\n",
       "    }\n",
       "\n",
       "    .dataframe tbody tr th {\n",
       "        vertical-align: top;\n",
       "    }\n",
       "\n",
       "    .dataframe thead th {\n",
       "        text-align: right;\n",
       "    }\n",
       "</style>\n",
       "<table border=\"1\" class=\"dataframe\">\n",
       "  <thead>\n",
       "    <tr style=\"text-align: right;\">\n",
       "      <th></th>\n",
       "      <th>Unnamed: 0</th>\n",
       "      <th>hhid</th>\n",
       "      <th>weight</th>\n",
       "      <th>earnwke</th>\n",
       "      <th>uhours</th>\n",
       "      <th>grade92</th>\n",
       "      <th>race</th>\n",
       "      <th>ethnic</th>\n",
       "      <th>age</th>\n",
       "      <th>sex</th>\n",
       "      <th>marital</th>\n",
       "      <th>ownchild</th>\n",
       "      <th>chldpres</th>\n",
       "      <th>occ2012</th>\n",
       "      <th>sample</th>\n",
       "    </tr>\n",
       "  </thead>\n",
       "  <tbody>\n",
       "    <tr>\n",
       "      <th>count</th>\n",
       "      <td>155.000000</td>\n",
       "      <td>1.550000e+02</td>\n",
       "      <td>155.000000</td>\n",
       "      <td>155.000000</td>\n",
       "      <td>155.000000</td>\n",
       "      <td>155.000000</td>\n",
       "      <td>155.000000</td>\n",
       "      <td>5.000000</td>\n",
       "      <td>155.000000</td>\n",
       "      <td>155.000000</td>\n",
       "      <td>155.000000</td>\n",
       "      <td>155.000000</td>\n",
       "      <td>155.000000</td>\n",
       "      <td>155.0</td>\n",
       "      <td>155.0</td>\n",
       "    </tr>\n",
       "    <tr>\n",
       "      <th>mean</th>\n",
       "      <td>160899.554839</td>\n",
       "      <td>4.446691e+14</td>\n",
       "      <td>1855.869986</td>\n",
       "      <td>1284.034645</td>\n",
       "      <td>41.651613</td>\n",
       "      <td>43.941935</td>\n",
       "      <td>1.341935</td>\n",
       "      <td>2.000000</td>\n",
       "      <td>42.993548</td>\n",
       "      <td>1.458065</td>\n",
       "      <td>2.851613</td>\n",
       "      <td>0.703226</td>\n",
       "      <td>1.703226</td>\n",
       "      <td>1610.0</td>\n",
       "      <td>1.0</td>\n",
       "    </tr>\n",
       "    <tr>\n",
       "      <th>std</th>\n",
       "      <td>94917.066970</td>\n",
       "      <td>3.179364e+14</td>\n",
       "      <td>1372.855396</td>\n",
       "      <td>654.399530</td>\n",
       "      <td>7.286880</td>\n",
       "      <td>1.275334</td>\n",
       "      <td>0.893255</td>\n",
       "      <td>1.224745</td>\n",
       "      <td>11.468476</td>\n",
       "      <td>0.499853</td>\n",
       "      <td>2.684234</td>\n",
       "      <td>1.039319</td>\n",
       "      <td>2.952380</td>\n",
       "      <td>0.0</td>\n",
       "      <td>0.0</td>\n",
       "    </tr>\n",
       "    <tr>\n",
       "      <th>min</th>\n",
       "      <td>416.000000</td>\n",
       "      <td>2.101078e+11</td>\n",
       "      <td>260.656100</td>\n",
       "      <td>150.000000</td>\n",
       "      <td>16.000000</td>\n",
       "      <td>39.000000</td>\n",
       "      <td>1.000000</td>\n",
       "      <td>1.000000</td>\n",
       "      <td>21.000000</td>\n",
       "      <td>1.000000</td>\n",
       "      <td>1.000000</td>\n",
       "      <td>0.000000</td>\n",
       "      <td>0.000000</td>\n",
       "      <td>1610.0</td>\n",
       "      <td>1.0</td>\n",
       "    </tr>\n",
       "    <tr>\n",
       "      <th>25%</th>\n",
       "      <td>79114.500000</td>\n",
       "      <td>1.371727e+14</td>\n",
       "      <td>496.157550</td>\n",
       "      <td>807.690000</td>\n",
       "      <td>40.000000</td>\n",
       "      <td>43.000000</td>\n",
       "      <td>1.000000</td>\n",
       "      <td>1.000000</td>\n",
       "      <td>34.500000</td>\n",
       "      <td>1.000000</td>\n",
       "      <td>1.000000</td>\n",
       "      <td>0.000000</td>\n",
       "      <td>0.000000</td>\n",
       "      <td>1610.0</td>\n",
       "      <td>1.0</td>\n",
       "    </tr>\n",
       "    <tr>\n",
       "      <th>50%</th>\n",
       "      <td>157370.000000</td>\n",
       "      <td>4.107100e+14</td>\n",
       "      <td>1478.810100</td>\n",
       "      <td>1195.650000</td>\n",
       "      <td>40.000000</td>\n",
       "      <td>44.000000</td>\n",
       "      <td>1.000000</td>\n",
       "      <td>2.000000</td>\n",
       "      <td>41.000000</td>\n",
       "      <td>1.000000</td>\n",
       "      <td>1.000000</td>\n",
       "      <td>0.000000</td>\n",
       "      <td>0.000000</td>\n",
       "      <td>1610.0</td>\n",
       "      <td>1.0</td>\n",
       "    </tr>\n",
       "    <tr>\n",
       "      <th>75%</th>\n",
       "      <td>246786.500000</td>\n",
       "      <td>7.390949e+14</td>\n",
       "      <td>3088.489100</td>\n",
       "      <td>1633.630000</td>\n",
       "      <td>40.000000</td>\n",
       "      <td>44.000000</td>\n",
       "      <td>1.000000</td>\n",
       "      <td>2.000000</td>\n",
       "      <td>53.000000</td>\n",
       "      <td>2.000000</td>\n",
       "      <td>7.000000</td>\n",
       "      <td>1.000000</td>\n",
       "      <td>3.000000</td>\n",
       "      <td>1610.0</td>\n",
       "      <td>1.0</td>\n",
       "    </tr>\n",
       "    <tr>\n",
       "      <th>max</th>\n",
       "      <td>316773.000000</td>\n",
       "      <td>9.820600e+14</td>\n",
       "      <td>5431.490700</td>\n",
       "      <td>2884.610000</td>\n",
       "      <td>80.000000</td>\n",
       "      <td>46.000000</td>\n",
       "      <td>4.000000</td>\n",
       "      <td>4.000000</td>\n",
       "      <td>64.000000</td>\n",
       "      <td>2.000000</td>\n",
       "      <td>7.000000</td>\n",
       "      <td>5.000000</td>\n",
       "      <td>14.000000</td>\n",
       "      <td>1610.0</td>\n",
       "      <td>1.0</td>\n",
       "    </tr>\n",
       "  </tbody>\n",
       "</table>\n",
       "</div>"
      ],
      "text/plain": [
       "          Unnamed: 0          hhid       weight      earnwke      uhours  \\\n",
       "count     155.000000  1.550000e+02   155.000000   155.000000  155.000000   \n",
       "mean   160899.554839  4.446691e+14  1855.869986  1284.034645   41.651613   \n",
       "std     94917.066970  3.179364e+14  1372.855396   654.399530    7.286880   \n",
       "min       416.000000  2.101078e+11   260.656100   150.000000   16.000000   \n",
       "25%     79114.500000  1.371727e+14   496.157550   807.690000   40.000000   \n",
       "50%    157370.000000  4.107100e+14  1478.810100  1195.650000   40.000000   \n",
       "75%    246786.500000  7.390949e+14  3088.489100  1633.630000   40.000000   \n",
       "max    316773.000000  9.820600e+14  5431.490700  2884.610000   80.000000   \n",
       "\n",
       "          grade92        race    ethnic         age         sex     marital  \\\n",
       "count  155.000000  155.000000  5.000000  155.000000  155.000000  155.000000   \n",
       "mean    43.941935    1.341935  2.000000   42.993548    1.458065    2.851613   \n",
       "std      1.275334    0.893255  1.224745   11.468476    0.499853    2.684234   \n",
       "min     39.000000    1.000000  1.000000   21.000000    1.000000    1.000000   \n",
       "25%     43.000000    1.000000  1.000000   34.500000    1.000000    1.000000   \n",
       "50%     44.000000    1.000000  2.000000   41.000000    1.000000    1.000000   \n",
       "75%     44.000000    1.000000  2.000000   53.000000    2.000000    7.000000   \n",
       "max     46.000000    4.000000  4.000000   64.000000    2.000000    7.000000   \n",
       "\n",
       "         ownchild    chldpres  occ2012  sample  \n",
       "count  155.000000  155.000000    155.0   155.0  \n",
       "mean     0.703226    1.703226   1610.0     1.0  \n",
       "std      1.039319    2.952380      0.0     0.0  \n",
       "min      0.000000    0.000000   1610.0     1.0  \n",
       "25%      0.000000    0.000000   1610.0     1.0  \n",
       "50%      0.000000    0.000000   1610.0     1.0  \n",
       "75%      1.000000    3.000000   1610.0     1.0  \n",
       "max      5.000000   14.000000   1610.0     1.0  "
      ]
     },
     "execution_count": 9,
     "metadata": {},
     "output_type": "execute_result"
    }
   ],
   "source": [
    "#seeing the description of our sample\n",
    "data_all[data_all[\"sample\"] == 1].describe()"
   ]
  },
  {
   "cell_type": "markdown",
   "id": "3ca7d1ec",
   "metadata": {},
   "source": []
  },
  {
   "cell_type": "markdown",
   "id": "2bf350e9",
   "metadata": {},
   "source": [
    "Checking the number of observations with the occupation of interest and in comparison to the rest"
   ]
  },
  {
   "cell_type": "code",
   "execution_count": 10,
   "id": "829b22e0",
   "metadata": {},
   "outputs": [
    {
     "data": {
      "text/plain": [
       "sample\n",
       "0.0    149161\n",
       "1.0       155\n",
       "Name: count, dtype: int64"
      ]
     },
     "execution_count": 10,
     "metadata": {},
     "output_type": "execute_result"
    }
   ],
   "source": [
    "#counting the number of 0 and 1 in column sample\n",
    "data_all[\"sample\"].value_counts()"
   ]
  },
  {
   "cell_type": "markdown",
   "id": "a5198c18",
   "metadata": {},
   "source": [
    "Cleaning Data and working with on the missing values"
   ]
  },
  {
   "cell_type": "code",
   "execution_count": 12,
   "id": "852ebe44",
   "metadata": {},
   "outputs": [
    {
     "name": "stdout",
     "output_type": "stream",
     "text": [
      "['ethnic', 'unioncov']\n",
      "129245\n",
      "17096\n"
     ]
    }
   ],
   "source": [
    "#checking the columns with missing values\n",
    "nan_columns = data_all.columns[data_all.isna().any()].tolist()\n",
    "print(nan_columns)\n",
    "# The number of missing observations under column ethnic\n",
    "nan_count_ethnic = data_all[\"ethnic\"].isna().sum()\n",
    "print(nan_count_ethnic)\n",
    "nan_count_unioncov = data_all[\"unioncov\"].isna().sum()\n",
    "print(nan_count_unioncov)"
   ]
  },
  {
   "cell_type": "markdown",
   "id": "473299c9",
   "metadata": {},
   "source": [
    "Given the number of missing values in relation to the total number of observations, we decided to drop these columns"
   ]
  },
  {
   "cell_type": "code",
   "execution_count": 13,
   "id": "67a92a69",
   "metadata": {},
   "outputs": [],
   "source": [
    "#Dropping the columns with missing values\n",
    "data_all = data_all.drop(columns=[\"ethnic\",\"unioncov\" ])"
   ]
  },
  {
   "cell_type": "markdown",
   "id": "63b611df",
   "metadata": {},
   "source": [
    "Focusing on the occupation of choice: Biological scientist"
   ]
  },
  {
   "cell_type": "code",
   "execution_count": 14,
   "id": "11a33a23",
   "metadata": {},
   "outputs": [],
   "source": [
    "#Only keeping the observations with the occupation of our choice\n",
    "data_all = data_all[data_all[\"sample\"] == 1]"
   ]
  },
  {
   "cell_type": "code",
   "execution_count": 15,
   "id": "a907f495",
   "metadata": {},
   "outputs": [],
   "source": [
    "#dropping the column Sample as it does not have any function for us now\n",
    "data_all = data_all.drop(columns=[\"sample\"])"
   ]
  },
  {
   "cell_type": "markdown",
   "id": "e1173107",
   "metadata": {},
   "source": [
    "Here we check the type of values under each column. Object columns and categorical data need to be worked on. "
   ]
  },
  {
   "cell_type": "code",
   "execution_count": 16,
   "id": "e4f82765",
   "metadata": {},
   "outputs": [
    {
     "name": "stdout",
     "output_type": "stream",
     "text": [
      "Unnamed: 0      int64\n",
      "hhid            int64\n",
      "intmonth       object\n",
      "stfips         object\n",
      "weight        float64\n",
      "earnwke       float64\n",
      "uhours          int64\n",
      "grade92         int64\n",
      "race            int64\n",
      "age             int64\n",
      "sex             int64\n",
      "marital         int64\n",
      "ownchild        int64\n",
      "chldpres        int64\n",
      "prcitshp       object\n",
      "state          object\n",
      "ind02          object\n",
      "occ2012         int64\n",
      "class          object\n",
      "unionmme       object\n",
      "lfsr94         object\n",
      "dtype: object\n"
     ]
    }
   ],
   "source": [
    "#checking the types of the values under all columns\n",
    "print(data_all.dtypes)"
   ]
  },
  {
   "cell_type": "code",
   "execution_count": 17,
   "id": "f225d486",
   "metadata": {},
   "outputs": [
    {
     "name": "stdout",
     "output_type": "stream",
     "text": [
      "['January' 'February' 'March' 'April' 'May' 'June' 'July' 'August'\n",
      " 'September' 'October' 'November' 'December']\n"
     ]
    }
   ],
   "source": [
    "#checking all possible values of column intmonth\n",
    "unique_values = data_all[\"intmonth\"].unique()\n",
    "print(unique_values)"
   ]
  },
  {
   "cell_type": "code",
   "execution_count": 18,
   "id": "24920096",
   "metadata": {},
   "outputs": [],
   "source": [
    "#producing dummy variables for months  in columns intmonth, and and US states in stfips, and other variables such as industry, calss, union membership and coverage, employment status and State\n",
    "data_all_adjusted = pd.get_dummies(data_all, columns=[\"intmonth\", \"stfips\", \"state\", \"ind02\", \"class\",\"unionmme\", \"lfsr94\"], drop_first=True)\n"
   ]
  },
  {
   "cell_type": "code",
   "execution_count": 19,
   "id": "33cad5a1",
   "metadata": {},
   "outputs": [
    {
     "name": "stdout",
     "output_type": "stream",
     "text": [
      "['Foreign Born, Not a US Citizen' 'Native, Born In US'\n",
      " 'Foreign Born, US Cit By Naturalization'\n",
      " 'Native, Born Abroad Of US Parent(s)'\n",
      " 'Native, Born in PR or US Outlying Area']\n"
     ]
    }
   ],
   "source": [
    "#checking all possible values of column prcitshp\n",
    "unique_values = data_all[\"prcitshp\"].unique()\n",
    "print(unique_values)"
   ]
  },
  {
   "cell_type": "markdown",
   "id": "6edac644",
   "metadata": {},
   "source": [
    "For this variable, only the issue of US citizenship is of interest for us"
   ]
  },
  {
   "cell_type": "code",
   "execution_count": 20,
   "id": "a9537536",
   "metadata": {},
   "outputs": [],
   "source": [
    "#we make a dummy based on citizenship\n",
    "data_all_adjusted[\"native_dummy\"] = data_all_adjusted[\"prcitshp\"].isin([\n",
    "    \"Native, Born In US\",\n",
    "    \"Native, Born Abroad Of US Parent(s)\",\n",
    "    \"Native, Born in PR or US Outlying Area\"\n",
    "]).astype(int)\n",
    "data_all_adjusted = data_all_adjusted.drop(columns=[\"prcitshp\"])"
   ]
  },
  {
   "cell_type": "code",
   "execution_count": 21,
   "id": "0032f58e",
   "metadata": {},
   "outputs": [],
   "source": [
    "#we want to transform the column race because in the current way it is not meaningful\n",
    "data_all_adjusted = pd.get_dummies(data_all_adjusted, columns=[\"race\"], drop_first=True)"
   ]
  },
  {
   "cell_type": "code",
   "execution_count": 22,
   "id": "f7315466",
   "metadata": {},
   "outputs": [
    {
     "name": "stdout",
     "output_type": "stream",
     "text": [
      "['Unnamed: 0', 'hhid', 'weight', 'earnwke', 'uhours', 'grade92', 'age', 'sex', 'marital', 'ownchild', 'chldpres', 'occ2012', 'intmonth_August', 'intmonth_December', 'intmonth_February', 'intmonth_January', 'intmonth_July', 'intmonth_June', 'intmonth_March', 'intmonth_May', 'intmonth_November', 'intmonth_October', 'intmonth_September', 'stfips_AR', 'stfips_AZ', 'stfips_CA', 'stfips_CO', 'stfips_CT', 'stfips_DC', 'stfips_DE', 'stfips_FL', 'stfips_GA', 'stfips_HI', 'stfips_IA', 'stfips_ID', 'stfips_IL', 'stfips_IN', 'stfips_KS', 'stfips_MA', 'stfips_MD', 'stfips_ME', 'stfips_MN', 'stfips_MO', 'stfips_MS', 'stfips_MT', 'stfips_NC', 'stfips_ND', 'stfips_NE', 'stfips_NH', 'stfips_NJ', 'stfips_NM', 'stfips_NV', 'stfips_NY', 'stfips_OH', 'stfips_OR', 'stfips_PA', 'stfips_RI', 'stfips_SD', 'stfips_TX', 'stfips_UT', 'stfips_VA', 'stfips_VT', 'stfips_WA', 'stfips_WY', 'state_2', 'state_3', 'state_4', 'state_5', 'state_6', 'state_7', 'state_8', 'state_9', 'state_1', 'state_2', 'state_3', 'state_4', 'state_46', 'state_47', 'state_5', 'state_52', 'state_56', 'state_59', 'state_7', 'state_8', 'state_83', 'state_87', 'state_88', 'state_9', 'state_93', 'state_94', 'state_95', 'state_CT', 'state_IA', 'state_MA', 'state_MN', 'state_ND', 'state_NJ', 'state_NY', 'state_OH', 'state_RI', 'state_SD', 'ind02_Administration of economic programs and space research (926, 927)', 'ind02_Administration of environmental quality and housing programs (924, 925)', 'ind02_Administration of human resource programs (923)', 'ind02_Agricultural chemical manufacturing (3253)', 'ind02_Architectural, engineering, and related services (5413)', 'ind02_Civic, social, advocacy organizations, and grantmaking and giving services (8132, 8133, 8134)', 'ind02_Colleges and universities, including junior colleges (6112, 6113)', 'ind02_Electric and gas, and other combinations (Pts. 2211, 2212)', 'ind02_Executive offices and legislative bodies (92111, 92112, 92114, pt. 92115)', 'ind02_Fishing, hunting, and trapping (114)', 'ind02_Forestry except logging (1131, 1132)', 'ind02_Fruit and vegetable preserving and specialty food manufacturing (3114)', 'ind02_Hospitals (622)', 'ind02_Independent artists, performing arts, spectator sports, and related industries (711)', 'ind02_Management, scientific, and technical consulting services (5416)', 'ind02_Metal ore mining (2122)', 'ind02_Museums, art galleries, historical sites, and similar institutions (712)', 'ind02_National security and international affairs (928)', 'ind02_Navigational, measuring, electromedical, and control instruments manufacturing (3345)', 'ind02_Other health care services (6215, 6219)', 'ind02_Other schools, instruction, and educational services (6116, 6117)', 'ind02_Pharmaceutical and medicine manufacturing (3254)', 'ind02_Scientific research and development services (5417)', 'ind02_Soap, cleaning compound, and cosmetics manufacturing (3256)', 'ind02_Support activities for agriculture and forestry (115)', 'ind02_Water, steam, air-conditioning, and irrigation systems (22131, 22133)', 'class_Government - Local', 'class_Government - State', 'class_Private, For Profit', 'class_Private, Nonprofit', 'unionmme_Yes', 'lfsr94_Employed-At Work', 'native_dummy', 'race_2', 'race_3', 'race_4']\n"
     ]
    }
   ],
   "source": [
    "print(data_all_adjusted.columns.tolist())"
   ]
  },
  {
   "cell_type": "code",
   "execution_count": 23,
   "id": "01c21026",
   "metadata": {},
   "outputs": [],
   "source": [
    "#calculate earnings per hour\n",
    "data_all_adjusted[\"w\"] = data_all_adjusted[\"earnwke\"] / data_all_adjusted[\"uhours\"]"
   ]
  },
  {
   "cell_type": "markdown",
   "id": "79ad178a",
   "metadata": {},
   "source": [
    "Based on the informed decisions about the context, some transformations of the variables are also included"
   ]
  },
  {
   "cell_type": "code",
   "execution_count": 24,
   "id": "7dc1ad34",
   "metadata": {},
   "outputs": [],
   "source": [
    "#Transformations and possible interaction terms\n",
    "data_all_adjusted[\"age_sq\"] = data_all_adjusted[\"age\"] ** 2\n",
    "data_all_adjusted[\"ln_age\"] = np.log(data_all_adjusted[\"age\"])\n",
    "data_all_adjusted[\"ln_uhours\"] = np.log(data_all_adjusted[\"uhours\"])\n",
    "data_all_adjusted[\"uhours_sq\"] = data_all_adjusted[\"uhours\"] ** 2\n",
    "data_all_adjusted[\"ln_weight\"] = np.log(data_all_adjusted[\"weight\"])\n",
    "data_all_adjusted[\"weight_sq\"] = data_all_adjusted[\"weight\"] ** 2\n",
    "data_all_adjusted[\"age_weight_interaction\"] = data_all_adjusted[\"age\"] * data_all_adjusted[\"weight\"]\n",
    "data_all_adjusted[\"age_sex_interaction\"] = data_all_adjusted[\"age\"] * data_all_adjusted[\"sex\"]"
   ]
  },
  {
   "cell_type": "code",
   "execution_count": null,
   "id": "7dc420c9",
   "metadata": {},
   "outputs": [
    {
     "data": {
      "text/plain": [
       "'c:\\\\Users\\\\behna\\\\Desktop\\\\project\\\\Data-Analysis-3'"
      ]
     },
     "execution_count": 25,
     "metadata": {},
     "output_type": "execute_result"
    }
   ],
   "source": []
  },
  {
   "cell_type": "code",
   "execution_count": null,
   "id": "6d472492",
   "metadata": {},
   "outputs": [],
   "source": []
  }
 ],
 "metadata": {
  "kernelspec": {
   "display_name": "base",
   "language": "python",
   "name": "python3"
  },
  "language_info": {
   "codemirror_mode": {
    "name": "ipython",
    "version": 3
   },
   "file_extension": ".py",
   "mimetype": "text/x-python",
   "name": "python",
   "nbconvert_exporter": "python",
   "pygments_lexer": "ipython3",
   "version": "3.12.4"
  }
 },
 "nbformat": 4,
 "nbformat_minor": 5
}
